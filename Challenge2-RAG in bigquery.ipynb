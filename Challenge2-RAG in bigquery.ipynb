{
  "cells": [
    {
      "cell_type": "markdown",
      "source": [
        "# **Programming a RAG System in BigQuery**"
      ],
      "metadata": {
        "id": "RjTjWBGa5PGN"
      },
      "id": "RjTjWBGa5PGN"
    },
    {
      "cell_type": "markdown",
      "source": [
        "Installing libraries for Vertex AI SDK and pandas"
      ],
      "metadata": {
        "id": "R8B8mw8p5Vhe"
      },
      "id": "R8B8mw8p5Vhe"
    },
    {
      "cell_type": "code",
      "id": "sDMce8babGPWu97MGfAWIJg2",
      "metadata": {
        "tags": [],
        "id": "sDMce8babGPWu97MGfAWIJg2"
      },
      "source": [
        "!pip install -U google-cloud-aiplatform pandas --quiet"
      ],
      "execution_count": 34,
      "outputs": []
    },
    {
      "cell_type": "markdown",
      "source": [
        "Import statements for model initialization, vertexAI initialization and pandas"
      ],
      "metadata": {
        "id": "au8K15tK52Cu"
      },
      "id": "au8K15tK52Cu"
    },
    {
      "cell_type": "code",
      "source": [
        "from vertexai import init\n",
        "from vertexai.preview.generative_models import GenerativeModel\n",
        "import pandas as pd"
      ],
      "metadata": {
        "id": "44N4Tfv6b3Pr"
      },
      "id": "44N4Tfv6b3Pr",
      "execution_count": 35,
      "outputs": []
    },
    {
      "cell_type": "markdown",
      "source": [
        "Initializing Vertex AI"
      ],
      "metadata": {
        "id": "-LZfK5US6TnY"
      },
      "id": "-LZfK5US6TnY"
    },
    {
      "cell_type": "code",
      "source": [
        "init(project=\"qwiklabs-gcp-00-1c0ebb19fb7c\", location=\"global\")\n"
      ],
      "metadata": {
        "id": "FyCubQjOb6FT"
      },
      "id": "FyCubQjOb6FT",
      "execution_count": 36,
      "outputs": []
    },
    {
      "cell_type": "markdown",
      "source": [
        "To see the schema for the csv file from storage bucket"
      ],
      "metadata": {
        "id": "nUTu1V9O6Xhh"
      },
      "id": "nUTu1V9O6Xhh"
    },
    {
      "cell_type": "code",
      "source": [
        "gcs_uri = \"gs://labs.roitraining.com/aurora-bay-faqs/aurora-bay-faqs.csv\"\n",
        "df = pd.read_csv(gcs_uri)\n",
        "df.head()\n"
      ],
      "metadata": {
        "colab": {
          "base_uri": "https://localhost:8080/",
          "height": 206
        },
        "id": "zQBF_x-bb8cq",
        "outputId": "bd2f5376-7f03-42d5-f2ad-90870bfe65a5"
      },
      "id": "zQBF_x-bb8cq",
      "execution_count": 37,
      "outputs": [
        {
          "output_type": "execute_result",
          "data": {
            "text/plain": [
              "                                         question  \\\n",
              "0                    When was Aurora Bay founded?   \n",
              "1           What is the population of Aurora Bay?   \n",
              "2      Where is the Aurora Bay Town Hall located?   \n",
              "3         Who is the current mayor of Aurora Bay?   \n",
              "4  What are the primary industries in Aurora Bay?   \n",
              "\n",
              "                                              answer  \n",
              "0  Aurora Bay was founded in 1901 by a group of f...  \n",
              "1  Aurora Bay has a population of approximately 3...  \n",
              "2  The Town Hall is located at 100 Harbor View Ro...  \n",
              "3  The current mayor is Linda Greenwood, elected ...  \n",
              "4  The primary industries include commercial fish...  "
            ],
            "text/html": [
              "\n",
              "  <div id=\"df-a9ffe541-a5c2-4312-820e-59bb12365b6d\" class=\"colab-df-container\">\n",
              "    <div>\n",
              "<style scoped>\n",
              "    .dataframe tbody tr th:only-of-type {\n",
              "        vertical-align: middle;\n",
              "    }\n",
              "\n",
              "    .dataframe tbody tr th {\n",
              "        vertical-align: top;\n",
              "    }\n",
              "\n",
              "    .dataframe thead th {\n",
              "        text-align: right;\n",
              "    }\n",
              "</style>\n",
              "<table border=\"1\" class=\"dataframe\">\n",
              "  <thead>\n",
              "    <tr style=\"text-align: right;\">\n",
              "      <th></th>\n",
              "      <th>question</th>\n",
              "      <th>answer</th>\n",
              "    </tr>\n",
              "  </thead>\n",
              "  <tbody>\n",
              "    <tr>\n",
              "      <th>0</th>\n",
              "      <td>When was Aurora Bay founded?</td>\n",
              "      <td>Aurora Bay was founded in 1901 by a group of f...</td>\n",
              "    </tr>\n",
              "    <tr>\n",
              "      <th>1</th>\n",
              "      <td>What is the population of Aurora Bay?</td>\n",
              "      <td>Aurora Bay has a population of approximately 3...</td>\n",
              "    </tr>\n",
              "    <tr>\n",
              "      <th>2</th>\n",
              "      <td>Where is the Aurora Bay Town Hall located?</td>\n",
              "      <td>The Town Hall is located at 100 Harbor View Ro...</td>\n",
              "    </tr>\n",
              "    <tr>\n",
              "      <th>3</th>\n",
              "      <td>Who is the current mayor of Aurora Bay?</td>\n",
              "      <td>The current mayor is Linda Greenwood, elected ...</td>\n",
              "    </tr>\n",
              "    <tr>\n",
              "      <th>4</th>\n",
              "      <td>What are the primary industries in Aurora Bay?</td>\n",
              "      <td>The primary industries include commercial fish...</td>\n",
              "    </tr>\n",
              "  </tbody>\n",
              "</table>\n",
              "</div>\n",
              "    <div class=\"colab-df-buttons\">\n",
              "\n",
              "  <div class=\"colab-df-container\">\n",
              "    <button class=\"colab-df-convert\" onclick=\"convertToInteractive('df-a9ffe541-a5c2-4312-820e-59bb12365b6d')\"\n",
              "            title=\"Convert this dataframe to an interactive table.\"\n",
              "            style=\"display:none;\">\n",
              "\n",
              "  <svg xmlns=\"http://www.w3.org/2000/svg\" height=\"24px\" viewBox=\"0 -960 960 960\">\n",
              "    <path d=\"M120-120v-720h720v720H120Zm60-500h600v-160H180v160Zm220 220h160v-160H400v160Zm0 220h160v-160H400v160ZM180-400h160v-160H180v160Zm440 0h160v-160H620v160ZM180-180h160v-160H180v160Zm440 0h160v-160H620v160Z\"/>\n",
              "  </svg>\n",
              "    </button>\n",
              "\n",
              "  <style>\n",
              "    .colab-df-container {\n",
              "      display:flex;\n",
              "      gap: 12px;\n",
              "    }\n",
              "\n",
              "    .colab-df-convert {\n",
              "      background-color: #E8F0FE;\n",
              "      border: none;\n",
              "      border-radius: 50%;\n",
              "      cursor: pointer;\n",
              "      display: none;\n",
              "      fill: #1967D2;\n",
              "      height: 32px;\n",
              "      padding: 0 0 0 0;\n",
              "      width: 32px;\n",
              "    }\n",
              "\n",
              "    .colab-df-convert:hover {\n",
              "      background-color: #E2EBFA;\n",
              "      box-shadow: 0px 1px 2px rgba(60, 64, 67, 0.3), 0px 1px 3px 1px rgba(60, 64, 67, 0.15);\n",
              "      fill: #174EA6;\n",
              "    }\n",
              "\n",
              "    .colab-df-buttons div {\n",
              "      margin-bottom: 4px;\n",
              "    }\n",
              "\n",
              "    [theme=dark] .colab-df-convert {\n",
              "      background-color: #3B4455;\n",
              "      fill: #D2E3FC;\n",
              "    }\n",
              "\n",
              "    [theme=dark] .colab-df-convert:hover {\n",
              "      background-color: #434B5C;\n",
              "      box-shadow: 0px 1px 3px 1px rgba(0, 0, 0, 0.15);\n",
              "      filter: drop-shadow(0px 1px 2px rgba(0, 0, 0, 0.3));\n",
              "      fill: #FFFFFF;\n",
              "    }\n",
              "  </style>\n",
              "\n",
              "    <script>\n",
              "      const buttonEl =\n",
              "        document.querySelector('#df-a9ffe541-a5c2-4312-820e-59bb12365b6d button.colab-df-convert');\n",
              "      buttonEl.style.display =\n",
              "        google.colab.kernel.accessAllowed ? 'block' : 'none';\n",
              "\n",
              "      async function convertToInteractive(key) {\n",
              "        const element = document.querySelector('#df-a9ffe541-a5c2-4312-820e-59bb12365b6d');\n",
              "        const dataTable =\n",
              "          await google.colab.kernel.invokeFunction('convertToInteractive',\n",
              "                                                    [key], {});\n",
              "        if (!dataTable) return;\n",
              "\n",
              "        const docLinkHtml = 'Like what you see? Visit the ' +\n",
              "          '<a target=\"_blank\" href=https://colab.research.google.com/notebooks/data_table.ipynb>data table notebook</a>'\n",
              "          + ' to learn more about interactive tables.';\n",
              "        element.innerHTML = '';\n",
              "        dataTable['output_type'] = 'display_data';\n",
              "        await google.colab.output.renderOutput(dataTable, element);\n",
              "        const docLink = document.createElement('div');\n",
              "        docLink.innerHTML = docLinkHtml;\n",
              "        element.appendChild(docLink);\n",
              "      }\n",
              "    </script>\n",
              "  </div>\n",
              "\n",
              "\n",
              "    <div id=\"df-f077c949-a7ed-4891-8ec0-0a48b2096b99\">\n",
              "      <button class=\"colab-df-quickchart\" onclick=\"quickchart('df-f077c949-a7ed-4891-8ec0-0a48b2096b99')\"\n",
              "                title=\"Suggest charts\"\n",
              "                style=\"display:none;\">\n",
              "\n",
              "<svg xmlns=\"http://www.w3.org/2000/svg\" height=\"24px\"viewBox=\"0 0 24 24\"\n",
              "     width=\"24px\">\n",
              "    <g>\n",
              "        <path d=\"M19 3H5c-1.1 0-2 .9-2 2v14c0 1.1.9 2 2 2h14c1.1 0 2-.9 2-2V5c0-1.1-.9-2-2-2zM9 17H7v-7h2v7zm4 0h-2V7h2v10zm4 0h-2v-4h2v4z\"/>\n",
              "    </g>\n",
              "</svg>\n",
              "      </button>\n",
              "\n",
              "<style>\n",
              "  .colab-df-quickchart {\n",
              "      --bg-color: #E8F0FE;\n",
              "      --fill-color: #1967D2;\n",
              "      --hover-bg-color: #E2EBFA;\n",
              "      --hover-fill-color: #174EA6;\n",
              "      --disabled-fill-color: #AAA;\n",
              "      --disabled-bg-color: #DDD;\n",
              "  }\n",
              "\n",
              "  [theme=dark] .colab-df-quickchart {\n",
              "      --bg-color: #3B4455;\n",
              "      --fill-color: #D2E3FC;\n",
              "      --hover-bg-color: #434B5C;\n",
              "      --hover-fill-color: #FFFFFF;\n",
              "      --disabled-bg-color: #3B4455;\n",
              "      --disabled-fill-color: #666;\n",
              "  }\n",
              "\n",
              "  .colab-df-quickchart {\n",
              "    background-color: var(--bg-color);\n",
              "    border: none;\n",
              "    border-radius: 50%;\n",
              "    cursor: pointer;\n",
              "    display: none;\n",
              "    fill: var(--fill-color);\n",
              "    height: 32px;\n",
              "    padding: 0;\n",
              "    width: 32px;\n",
              "  }\n",
              "\n",
              "  .colab-df-quickchart:hover {\n",
              "    background-color: var(--hover-bg-color);\n",
              "    box-shadow: 0 1px 2px rgba(60, 64, 67, 0.3), 0 1px 3px 1px rgba(60, 64, 67, 0.15);\n",
              "    fill: var(--button-hover-fill-color);\n",
              "  }\n",
              "\n",
              "  .colab-df-quickchart-complete:disabled,\n",
              "  .colab-df-quickchart-complete:disabled:hover {\n",
              "    background-color: var(--disabled-bg-color);\n",
              "    fill: var(--disabled-fill-color);\n",
              "    box-shadow: none;\n",
              "  }\n",
              "\n",
              "  .colab-df-spinner {\n",
              "    border: 2px solid var(--fill-color);\n",
              "    border-color: transparent;\n",
              "    border-bottom-color: var(--fill-color);\n",
              "    animation:\n",
              "      spin 1s steps(1) infinite;\n",
              "  }\n",
              "\n",
              "  @keyframes spin {\n",
              "    0% {\n",
              "      border-color: transparent;\n",
              "      border-bottom-color: var(--fill-color);\n",
              "      border-left-color: var(--fill-color);\n",
              "    }\n",
              "    20% {\n",
              "      border-color: transparent;\n",
              "      border-left-color: var(--fill-color);\n",
              "      border-top-color: var(--fill-color);\n",
              "    }\n",
              "    30% {\n",
              "      border-color: transparent;\n",
              "      border-left-color: var(--fill-color);\n",
              "      border-top-color: var(--fill-color);\n",
              "      border-right-color: var(--fill-color);\n",
              "    }\n",
              "    40% {\n",
              "      border-color: transparent;\n",
              "      border-right-color: var(--fill-color);\n",
              "      border-top-color: var(--fill-color);\n",
              "    }\n",
              "    60% {\n",
              "      border-color: transparent;\n",
              "      border-right-color: var(--fill-color);\n",
              "    }\n",
              "    80% {\n",
              "      border-color: transparent;\n",
              "      border-right-color: var(--fill-color);\n",
              "      border-bottom-color: var(--fill-color);\n",
              "    }\n",
              "    90% {\n",
              "      border-color: transparent;\n",
              "      border-bottom-color: var(--fill-color);\n",
              "    }\n",
              "  }\n",
              "</style>\n",
              "\n",
              "      <script>\n",
              "        async function quickchart(key) {\n",
              "          const quickchartButtonEl =\n",
              "            document.querySelector('#' + key + ' button');\n",
              "          quickchartButtonEl.disabled = true;  // To prevent multiple clicks.\n",
              "          quickchartButtonEl.classList.add('colab-df-spinner');\n",
              "          try {\n",
              "            const charts = await google.colab.kernel.invokeFunction(\n",
              "                'suggestCharts', [key], {});\n",
              "          } catch (error) {\n",
              "            console.error('Error during call to suggestCharts:', error);\n",
              "          }\n",
              "          quickchartButtonEl.classList.remove('colab-df-spinner');\n",
              "          quickchartButtonEl.classList.add('colab-df-quickchart-complete');\n",
              "        }\n",
              "        (() => {\n",
              "          let quickchartButtonEl =\n",
              "            document.querySelector('#df-f077c949-a7ed-4891-8ec0-0a48b2096b99 button');\n",
              "          quickchartButtonEl.style.display =\n",
              "            google.colab.kernel.accessAllowed ? 'block' : 'none';\n",
              "        })();\n",
              "      </script>\n",
              "    </div>\n",
              "\n",
              "    </div>\n",
              "  </div>\n"
            ],
            "application/vnd.google.colaboratory.intrinsic+json": {
              "type": "dataframe",
              "variable_name": "df",
              "summary": "{\n  \"name\": \"df\",\n  \"rows\": 50,\n  \"fields\": [\n    {\n      \"column\": \"question\",\n      \"properties\": {\n        \"dtype\": \"string\",\n        \"num_unique_values\": 50,\n        \"samples\": [\n          \"What are the winter road conditions usually like?\",\n          \"Are there guided tours for Northern Lights viewing?\",\n          \"Does Aurora Bay offer snow removal services for residents?\"\n        ],\n        \"semantic_type\": \"\",\n        \"description\": \"\"\n      }\n    },\n    {\n      \"column\": \"answer\",\n      \"properties\": {\n        \"dtype\": \"string\",\n        \"num_unique_values\": 50,\n        \"samples\": [\n          \"Road conditions can be icy and snowy from November through March. The town does regular snowplowing, but all-wheel drive or snow tires are strongly recommended.\",\n          \"Yes. Several local outfitters offer guided night tours outside town lights for optimal aurora borealis viewing from October through March.\",\n          \"Yes. The Public Works Department clears main roads and priority areas. Residents can request additional snow removal for driveways through a private contractor list.\"\n        ],\n        \"semantic_type\": \"\",\n        \"description\": \"\"\n      }\n    }\n  ]\n}"
            }
          },
          "metadata": {},
          "execution_count": 37
        }
      ]
    },
    {
      "cell_type": "code",
      "source": [
        "df.dtypes"
      ],
      "metadata": {
        "colab": {
          "base_uri": "https://localhost:8080/",
          "height": 147
        },
        "id": "tUKb7ZLQcYPE",
        "outputId": "f0eb055f-857a-4a26-906b-800b028a9c24"
      },
      "id": "tUKb7ZLQcYPE",
      "execution_count": 38,
      "outputs": [
        {
          "output_type": "execute_result",
          "data": {
            "text/plain": [
              "question    object\n",
              "answer      object\n",
              "dtype: object"
            ],
            "text/html": [
              "<div>\n",
              "<style scoped>\n",
              "    .dataframe tbody tr th:only-of-type {\n",
              "        vertical-align: middle;\n",
              "    }\n",
              "\n",
              "    .dataframe tbody tr th {\n",
              "        vertical-align: top;\n",
              "    }\n",
              "\n",
              "    .dataframe thead th {\n",
              "        text-align: right;\n",
              "    }\n",
              "</style>\n",
              "<table border=\"1\" class=\"dataframe\">\n",
              "  <thead>\n",
              "    <tr style=\"text-align: right;\">\n",
              "      <th></th>\n",
              "      <th>0</th>\n",
              "    </tr>\n",
              "  </thead>\n",
              "  <tbody>\n",
              "    <tr>\n",
              "      <th>question</th>\n",
              "      <td>object</td>\n",
              "    </tr>\n",
              "    <tr>\n",
              "      <th>answer</th>\n",
              "      <td>object</td>\n",
              "    </tr>\n",
              "  </tbody>\n",
              "</table>\n",
              "</div><br><label><b>dtype:</b> object</label>"
            ]
          },
          "metadata": {},
          "execution_count": 38
        }
      ]
    },
    {
      "cell_type": "markdown",
      "source": [
        "Importing bigquery package"
      ],
      "metadata": {
        "id": "jpyo8BSO6gwS"
      },
      "id": "jpyo8BSO6gwS"
    },
    {
      "cell_type": "code",
      "source": [
        "from google.cloud import bigquery"
      ],
      "metadata": {
        "id": "a1MpTtkDlMoH"
      },
      "id": "a1MpTtkDlMoH",
      "execution_count": 39,
      "outputs": []
    },
    {
      "cell_type": "markdown",
      "source": [
        "Creating bigquery client"
      ],
      "metadata": {
        "id": "4UKaR7zk6miy"
      },
      "id": "4UKaR7zk6miy"
    },
    {
      "cell_type": "code",
      "source": [
        "bq_client = bigquery.Client(project=\"qwiklabs-gcp-00-1c0ebb19fb7c\")"
      ],
      "metadata": {
        "id": "FP-AkS5XmQ-w"
      },
      "id": "FP-AkS5XmQ-w",
      "execution_count": 40,
      "outputs": []
    },
    {
      "cell_type": "markdown",
      "source": [
        "I have already created a dataset named 'AuroraBayFAQs' in bigquery and created Vertex AI connection also with proper IAM roles to access bigquery contents\n",
        "\n",
        "Here i have embedding model, loading data and generate embedding for the data loaded\n",
        "\n"
      ],
      "metadata": {
        "id": "NXCFffql6rUn"
      },
      "id": "NXCFffql6rUn"
    },
    {
      "cell_type": "code",
      "source": [
        "embedding_and_dataloading_pipeline_sql = \"\"\"\n",
        "-- 1. Create Embedding Model\n",
        "CREATE OR REPLACE MODEL `AuroraBayFAQs.Embeddings`\n",
        "REMOTE WITH CONNECTION `us.embedding_conn_us`\n",
        "OPTIONS (ENDPOINT = 'text-embedding-005');\n",
        "\n",
        "-- 2. Load CSV from GCS\n",
        "LOAD DATA OVERWRITE AuroraBayFAQs.aurora_bay (\n",
        "    question STRING,\n",
        "    answer STRING\n",
        ")\n",
        "FROM FILES (\n",
        "    format = 'CSV',\n",
        "    uris = ['gs://labs.roitraining.com/aurora-bay-faqs/aurora-bay-faqs.csv'],\n",
        "    skip_leading_rows = 1\n",
        ");\n",
        "\n",
        "-- 3. Generate Embeddings\n",
        "CREATE OR REPLACE TABLE `AuroraBayFAQs.aurora_bay_embedded` AS\n",
        "SELECT *\n",
        "FROM ML.GENERATE_EMBEDDING(\n",
        "    MODEL `AuroraBayFAQs.Embeddings`,\n",
        "    (\n",
        "      SELECT\n",
        "        CONCAT(\"Q: \", question, \" A: \", answer) AS content,\n",
        "        question,\n",
        "        answer\n",
        "      FROM\n",
        "        `AuroraBayFAQs.aurora_bay`\n",
        "    )\n",
        ");\n",
        "\"\"\"\n",
        "\n",
        "# Run the SQL\n",
        "bq_client.query(embedding_and_dataloading_pipeline_sql).result()\n"
      ],
      "metadata": {
        "colab": {
          "base_uri": "https://localhost:8080/"
        },
        "id": "bX5la6kMmcrm",
        "outputId": "0fe1397b-5d45-4d9b-9826-6505b2aafa6d"
      },
      "id": "bX5la6kMmcrm",
      "execution_count": 41,
      "outputs": [
        {
          "output_type": "execute_result",
          "data": {
            "text/plain": [
              "<google.cloud.bigquery.table._EmptyRowIterator at 0x7ef3cbf2e1d0>"
            ]
          },
          "metadata": {},
          "execution_count": 41
        }
      ]
    },
    {
      "cell_type": "markdown",
      "source": [
        "Checking whether the data was loaded"
      ],
      "metadata": {
        "id": "V-G5vC6I7Jvp"
      },
      "id": "V-G5vC6I7Jvp"
    },
    {
      "cell_type": "code",
      "source": [
        "query = \"SELECT * FROM `AuroraBayFAQs.aurora_bay` LIMIT 5\"\n",
        "df = bq_client.query(query).to_dataframe()\n",
        "\n",
        "print(df.shape)\n",
        "print(df.head())\n"
      ],
      "metadata": {
        "colab": {
          "base_uri": "https://localhost:8080/"
        },
        "id": "TlqqOW7qtr-M",
        "outputId": "7495ab0c-35f4-41ca-d6b8-df6b4d8090e0"
      },
      "id": "TlqqOW7qtr-M",
      "execution_count": 42,
      "outputs": [
        {
          "output_type": "stream",
          "name": "stdout",
          "text": [
            "(5, 2)\n",
            "                                         question  \\\n",
            "0                    When was Aurora Bay founded?   \n",
            "1           What is the population of Aurora Bay?   \n",
            "2      Where is the Aurora Bay Town Hall located?   \n",
            "3         Who is the current mayor of Aurora Bay?   \n",
            "4  What are the primary industries in Aurora Bay?   \n",
            "\n",
            "                                              answer  \n",
            "0  Aurora Bay was founded in 1901 by a group of f...  \n",
            "1  Aurora Bay has a population of approximately 3...  \n",
            "2  The Town Hall is located at 100 Harbor View Ro...  \n",
            "3  The current mayor is Linda Greenwood, elected ...  \n",
            "4  The primary industries include commercial fish...  \n"
          ]
        }
      ]
    },
    {
      "cell_type": "markdown",
      "source": [
        "Creating vector search query and that will have top 5 results in aurora_bay_result table"
      ],
      "metadata": {
        "id": "llnuQD-i7P4T"
      },
      "id": "llnuQD-i7P4T"
    },
    {
      "cell_type": "code",
      "source": [
        "def query_vector_search_data(user_input):\n",
        "    search_sql = f\"\"\"\n",
        "    CREATE OR REPLACE TABLE `AuroraBayFAQs.aurora_bay_result` AS\n",
        "    SELECT\n",
        "        query.query,\n",
        "        base.content\n",
        "    FROM\n",
        "        VECTOR_SEARCH(\n",
        "            TABLE `AuroraBayFAQs.aurora_bay_embedded`,\n",
        "            'ml_generate_embedding_result',\n",
        "            (\n",
        "                SELECT\n",
        "                    ml_generate_embedding_result,\n",
        "                    content AS query\n",
        "                FROM\n",
        "                    ML.GENERATE_EMBEDDING(\n",
        "                        MODEL `AuroraBayFAQs.Embeddings`,\n",
        "                        (SELECT '{user_input}' AS content)\n",
        "                    )\n",
        "            ),\n",
        "            top_k => 5,\n",
        "            options => '{{\"fraction_lists_to_search\": 1.0}}'\n",
        "        );\n",
        "    \"\"\"\n",
        "    bq_client.query(search_sql).result()\n"
      ],
      "metadata": {
        "id": "buLolkYDnkvY"
      },
      "id": "buLolkYDnkvY",
      "execution_count": 43,
      "outputs": []
    },
    {
      "cell_type": "markdown",
      "source": [
        "Function to get refined response from Gemini model by filtering the top 5 vector search results"
      ],
      "metadata": {
        "id": "EkBWbSjI7kd_"
      },
      "id": "EkBWbSjI7kd_"
    },
    {
      "cell_type": "code",
      "source": [
        "def get_response_from_gemini():\n",
        "    result_df = bq_client.query(\"SELECT * FROM `AuroraBayFAQs.aurora_bay_result`\").to_dataframe()\n",
        "\n",
        "    context = \"\\n\\n\".join(\n",
        "        result_df.apply(lambda row: f\"Q: {row['query']}\\nA: {row['content']}\", axis=1)\n",
        "    )\n",
        "\n",
        "    prompt = (\n",
        "        \"You are a helpful assistant answering FAQs for Aurora Bay.\\n\"\n",
        "        \"Based on the following context, answer the user's question clearly in professinal way:\\n\\n\"\n",
        "        \"If the answer is not relevant, don't hallucinate — just say 'No answer'.\"\n",
        "        f\"{context}\"\n",
        "    )\n",
        "\n",
        "    gemini_model = GenerativeModel(\"gemini-2.5-pro-preview-06-05\")\n",
        "    response = gemini_model.generate_content(prompt)\n",
        "    return response.text.strip()"
      ],
      "metadata": {
        "id": "B5KVXrr9pzH8"
      },
      "id": "B5KVXrr9pzH8",
      "execution_count": 44,
      "outputs": []
    },
    {
      "cell_type": "markdown",
      "source": [
        "Creating Interactive Chat"
      ],
      "metadata": {
        "id": "8C9hf-MA8Dqg"
      },
      "id": "8C9hf-MA8Dqg"
    },
    {
      "cell_type": "code",
      "source": [
        "while True:\n",
        "    user_query = input(\"You: \")\n",
        "    if user_query.lower() == \"exit\":\n",
        "        print(\"Goodbye!\")\n",
        "        break\n",
        "\n",
        "    try:\n",
        "        query_vector_search_data(user_query)\n",
        "        reply = get_response_from_gemini()\n",
        "        print(f\"Bot: {reply}\\n\")\n",
        "    except Exception as e:\n",
        "        print(f\"Error: {e}\\n\")\n"
      ],
      "metadata": {
        "colab": {
          "base_uri": "https://localhost:8080/"
        },
        "id": "dy4XT9Jpp87h",
        "outputId": "eb721833-3c15-47ac-8129-c9af7339ce61"
      },
      "id": "dy4XT9Jpp87h",
      "execution_count": 46,
      "outputs": [
        {
          "output_type": "stream",
          "name": "stdout",
          "text": [
            "You: primary industries in aurora bay\n",
            "Bot: The primary industries include commercial fishing, tourism, and small-scale logging in the nearby forests.\n",
            "\n",
            "You: leader of aurora bay\n",
            "Bot: The current mayor is Linda Greenwood, elected in 2021 for a four-year term.\n",
            "\n",
            "You: where is aurora bay located\n",
            "Bot: No answer\n",
            "\n",
            "You: when was aurora founded?\n",
            "Bot: Aurora Bay was founded in 1901 by a group of fur traders who recognized the region’s strategic coastal location.\n",
            "\n",
            "You: exit\n",
            "Goodbye!\n"
          ]
        }
      ]
    }
  ],
  "metadata": {
    "kernelspec": {
      "display_name": "Python 3",
      "language": "python",
      "name": "python3"
    },
    "language_info": {
      "codemirror_mode": {
        "name": "ipython",
        "version": 3
      },
      "file_extension": ".py",
      "mimetype": "text/x-python",
      "name": "python",
      "nbconvert_exporter": "python",
      "pygments_lexer": "ipython3",
      "version": "3.10.10"
    },
    "colab": {
      "provenance": [],
      "name": "student-01-ddc80c5eea8c (Jun 16, 2025, 11:54:36 AM)"
    }
  },
  "nbformat": 4,
  "nbformat_minor": 5
}