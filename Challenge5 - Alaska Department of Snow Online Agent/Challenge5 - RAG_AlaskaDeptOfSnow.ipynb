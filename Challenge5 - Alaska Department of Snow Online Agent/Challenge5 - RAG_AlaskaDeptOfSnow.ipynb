{
  "cells": [
    {
      "cell_type": "markdown",
      "source": [
        "Installing libraries for Vertex AI SDK and pandas"
      ],
      "metadata": {
        "id": "LXDW2Zys2DDA"
      },
      "id": "LXDW2Zys2DDA"
    },
    {
      "cell_type": "code",
      "id": "uzxNNCGn6NgywqaxMxNWfDmM",
      "metadata": {
        "tags": [],
        "id": "uzxNNCGn6NgywqaxMxNWfDmM"
      },
      "source": [
        "!pip install -U google-cloud-aiplatform pandas --quiet"
      ],
      "execution_count": null,
      "outputs": []
    },
    {
      "cell_type": "markdown",
      "source": [
        "Import statements for model initialization, vertexAI initialization and pandas"
      ],
      "metadata": {
        "id": "yiULm88V2Ksy"
      },
      "id": "yiULm88V2Ksy"
    },
    {
      "cell_type": "code",
      "source": [
        "from vertexai.preview.generative_models import GenerativeModel\n",
        "from vertexai.preview.generative_models import SafetySetting, HarmCategory\n",
        "from vertexai import init\n",
        "import pandas as pd"
      ],
      "metadata": {
        "id": "1uw913m3G6CB"
      },
      "id": "1uw913m3G6CB",
      "execution_count": 26,
      "outputs": []
    },
    {
      "cell_type": "markdown",
      "source": [
        "Declare Constants"
      ],
      "metadata": {
        "id": "GmyraK502SI2"
      },
      "id": "GmyraK502SI2"
    },
    {
      "cell_type": "code",
      "source": [
        "PROJECT_ID='qwiklabs-gcp-00-1c0ebb19fb7c'\n",
        "LOCATION='us-central1'\n",
        "DATASET = \"AlaskaDeptOfSnow\"\n",
        "TABLE = \"alaska_dept\"\n",
        "TABLE_EMBEDDED = \"alaska_dept_embedded\"\n",
        "MODEL_NAME = \"gemini-2.0-flash\"\n",
        "DATASET_URI = \"gs://labs.roitraining.com/alaska-dept-of-snow/alaska-dept-of-snow-faqs.csv\""
      ],
      "metadata": {
        "id": "w9BpUhsgS9KJ"
      },
      "id": "w9BpUhsgS9KJ",
      "execution_count": 27,
      "outputs": []
    },
    {
      "cell_type": "markdown",
      "source": [
        "Initializing Vertex AI"
      ],
      "metadata": {
        "id": "in4QsxD42WBw"
      },
      "id": "in4QsxD42WBw"
    },
    {
      "cell_type": "code",
      "source": [
        "init(project=PROJECT_ID, location=LOCATION)\n"
      ],
      "metadata": {
        "id": "gGb1JiA7G8af"
      },
      "id": "gGb1JiA7G8af",
      "execution_count": 28,
      "outputs": []
    },
    {
      "cell_type": "markdown",
      "source": [
        "# **Source File Information**"
      ],
      "metadata": {
        "id": "AG2yY5cA3GBG"
      },
      "id": "AG2yY5cA3GBG"
    },
    {
      "cell_type": "markdown",
      "source": [
        "Import cloud storage to view alaksa source"
      ],
      "metadata": {
        "id": "nK9s72UM2YGt"
      },
      "id": "nK9s72UM2YGt"
    },
    {
      "cell_type": "code",
      "source": [
        "from google.cloud import storage"
      ],
      "metadata": {
        "id": "7t555nFiH3YE"
      },
      "id": "7t555nFiH3YE",
      "execution_count": 29,
      "outputs": []
    },
    {
      "cell_type": "code",
      "source": [
        "bucket_name = \"labs.roitraining.com\"\n",
        "prefix = \"alaska-dept-of-snow\""
      ],
      "metadata": {
        "id": "LuWrbeetH9rw"
      },
      "id": "LuWrbeetH9rw",
      "execution_count": 30,
      "outputs": []
    },
    {
      "cell_type": "markdown",
      "source": [
        "Bucket info: To view that type of files the source/bucket contains"
      ],
      "metadata": {
        "id": "VAGdcj3U2f8u"
      },
      "id": "VAGdcj3U2f8u"
    },
    {
      "cell_type": "code",
      "source": [
        "client = storage.Client()\n",
        "bucket = client.bucket(bucket_name)\n",
        "\n",
        "blobs = client.list_blobs(bucket_name, prefix=prefix)\n",
        "\n",
        "print(\"Files in GCS path:\")\n",
        "for blob in blobs:\n",
        "    print(blob.name)"
      ],
      "metadata": {
        "id": "5GmXReEWH6vN",
        "colab": {
          "base_uri": "https://localhost:8080/"
        },
        "outputId": "511d51ab-35e2-46ba-b9bb-7f03f4ef13bd"
      },
      "id": "5GmXReEWH6vN",
      "execution_count": 31,
      "outputs": [
        {
          "output_type": "stream",
          "name": "stdout",
          "text": [
            "Files in GCS path:\n",
            "alaska-dept-of-snow/.DS_Store\n",
            "alaska-dept-of-snow/alaska-dept-of-snow-faqs.csv\n",
            "alaska-dept-of-snow/faq-01.txt\n",
            "alaska-dept-of-snow/faq-02.txt\n",
            "alaska-dept-of-snow/faq-03.txt\n",
            "alaska-dept-of-snow/faq-04.txt\n",
            "alaska-dept-of-snow/faq-05.txt\n",
            "alaska-dept-of-snow/faq-06.txt\n",
            "alaska-dept-of-snow/faq-07.txt\n",
            "alaska-dept-of-snow/faq-08.txt\n",
            "alaska-dept-of-snow/faq-09.txt\n",
            "alaska-dept-of-snow/faq-10.txt\n",
            "alaska-dept-of-snow/faq-11.txt\n",
            "alaska-dept-of-snow/faq-12.txt\n",
            "alaska-dept-of-snow/faq-13.txt\n",
            "alaska-dept-of-snow/faq-14.txt\n",
            "alaska-dept-of-snow/faq-15.txt\n",
            "alaska-dept-of-snow/faq-16.txt\n",
            "alaska-dept-of-snow/faq-17.txt\n",
            "alaska-dept-of-snow/faq-18.txt\n",
            "alaska-dept-of-snow/faq-19.txt\n",
            "alaska-dept-of-snow/faq-20.txt\n",
            "alaska-dept-of-snow/faq-21.txt\n",
            "alaska-dept-of-snow/faq-22.txt\n",
            "alaska-dept-of-snow/faq-23.txt\n",
            "alaska-dept-of-snow/faq-24.txt\n",
            "alaska-dept-of-snow/faq-25.txt\n",
            "alaska-dept-of-snow/faq-26.txt\n",
            "alaska-dept-of-snow/faq-27.txt\n",
            "alaska-dept-of-snow/faq-28.txt\n",
            "alaska-dept-of-snow/faq-29.txt\n",
            "alaska-dept-of-snow/faq-30.txt\n",
            "alaska-dept-of-snow/faq-31.txt\n",
            "alaska-dept-of-snow/faq-32.txt\n",
            "alaska-dept-of-snow/faq-33.txt\n",
            "alaska-dept-of-snow/faq-34.txt\n",
            "alaska-dept-of-snow/faq-35.txt\n",
            "alaska-dept-of-snow/faq-36.txt\n",
            "alaska-dept-of-snow/faq-37.txt\n",
            "alaska-dept-of-snow/faq-38.txt\n",
            "alaska-dept-of-snow/faq-39.txt\n",
            "alaska-dept-of-snow/faq-40.txt\n",
            "alaska-dept-of-snow/faq-41.txt\n",
            "alaska-dept-of-snow/faq-42.txt\n",
            "alaska-dept-of-snow/faq-43.txt\n",
            "alaska-dept-of-snow/faq-44.txt\n",
            "alaska-dept-of-snow/faq-45.txt\n",
            "alaska-dept-of-snow/faq-46.txt\n",
            "alaska-dept-of-snow/faq-47.txt\n",
            "alaska-dept-of-snow/faq-48.txt\n",
            "alaska-dept-of-snow/faq-49.txt\n",
            "alaska-dept-of-snow/faq-50.txt\n"
          ]
        }
      ]
    },
    {
      "cell_type": "markdown",
      "source": [
        "To see the schema for the csv file from storage bucket"
      ],
      "metadata": {
        "id": "uJumtNSv2tml"
      },
      "id": "uJumtNSv2tml"
    },
    {
      "cell_type": "code",
      "source": [
        "gcs_uri = \"gs://labs.roitraining.com/alaska-dept-of-snow/alaska-dept-of-snow-faqs.csv\"\n",
        "df = pd.read_csv(gcs_uri)\n",
        "df.head()\n",
        "len(df)"
      ],
      "metadata": {
        "colab": {
          "base_uri": "https://localhost:8080/"
        },
        "id": "_U7RLyNgHTgL",
        "outputId": "d0c8dbec-e2e2-4b70-82d9-0afaa2ad806c"
      },
      "id": "_U7RLyNgHTgL",
      "execution_count": 32,
      "outputs": [
        {
          "output_type": "execute_result",
          "data": {
            "text/plain": [
              "50"
            ]
          },
          "metadata": {},
          "execution_count": 32
        }
      ]
    },
    {
      "cell_type": "code",
      "source": [
        "gcs_uri = \"gs://labs.roitraining.com/alaska-dept-of-snow/faq-04.txt\"\n",
        "# df = pd.read_csv(gcs_uri, sep=\"\\n\", header=None, names=[\"text\"])\n",
        "data = pd.read_csv(gcs_uri, sep=\"\\t\", header=None)\n",
        "\n",
        "data"
      ],
      "metadata": {
        "colab": {
          "base_uri": "https://localhost:8080/",
          "height": 125
        },
        "id": "oE3qLk1RItlE",
        "outputId": "142df42c-191b-458f-9d30-b00c0ad8c9d5"
      },
      "id": "oE3qLk1RItlE",
      "execution_count": 33,
      "outputs": [
        {
          "output_type": "execute_result",
          "data": {
            "text/plain": [
              "                                                   0\n",
              "0       Who do I contact to report an unplowed road?\n",
              "1  Contact your local ADS regional office. Each r..."
            ],
            "text/html": [
              "\n",
              "  <div id=\"df-248eb099-a8b0-47ef-8444-2fd70b0e953b\" class=\"colab-df-container\">\n",
              "    <div>\n",
              "<style scoped>\n",
              "    .dataframe tbody tr th:only-of-type {\n",
              "        vertical-align: middle;\n",
              "    }\n",
              "\n",
              "    .dataframe tbody tr th {\n",
              "        vertical-align: top;\n",
              "    }\n",
              "\n",
              "    .dataframe thead th {\n",
              "        text-align: right;\n",
              "    }\n",
              "</style>\n",
              "<table border=\"1\" class=\"dataframe\">\n",
              "  <thead>\n",
              "    <tr style=\"text-align: right;\">\n",
              "      <th></th>\n",
              "      <th>0</th>\n",
              "    </tr>\n",
              "  </thead>\n",
              "  <tbody>\n",
              "    <tr>\n",
              "      <th>0</th>\n",
              "      <td>Who do I contact to report an unplowed road?</td>\n",
              "    </tr>\n",
              "    <tr>\n",
              "      <th>1</th>\n",
              "      <td>Contact your local ADS regional office. Each r...</td>\n",
              "    </tr>\n",
              "  </tbody>\n",
              "</table>\n",
              "</div>\n",
              "    <div class=\"colab-df-buttons\">\n",
              "\n",
              "  <div class=\"colab-df-container\">\n",
              "    <button class=\"colab-df-convert\" onclick=\"convertToInteractive('df-248eb099-a8b0-47ef-8444-2fd70b0e953b')\"\n",
              "            title=\"Convert this dataframe to an interactive table.\"\n",
              "            style=\"display:none;\">\n",
              "\n",
              "  <svg xmlns=\"http://www.w3.org/2000/svg\" height=\"24px\" viewBox=\"0 -960 960 960\">\n",
              "    <path d=\"M120-120v-720h720v720H120Zm60-500h600v-160H180v160Zm220 220h160v-160H400v160Zm0 220h160v-160H400v160ZM180-400h160v-160H180v160Zm440 0h160v-160H620v160ZM180-180h160v-160H180v160Zm440 0h160v-160H620v160Z\"/>\n",
              "  </svg>\n",
              "    </button>\n",
              "\n",
              "  <style>\n",
              "    .colab-df-container {\n",
              "      display:flex;\n",
              "      gap: 12px;\n",
              "    }\n",
              "\n",
              "    .colab-df-convert {\n",
              "      background-color: #E8F0FE;\n",
              "      border: none;\n",
              "      border-radius: 50%;\n",
              "      cursor: pointer;\n",
              "      display: none;\n",
              "      fill: #1967D2;\n",
              "      height: 32px;\n",
              "      padding: 0 0 0 0;\n",
              "      width: 32px;\n",
              "    }\n",
              "\n",
              "    .colab-df-convert:hover {\n",
              "      background-color: #E2EBFA;\n",
              "      box-shadow: 0px 1px 2px rgba(60, 64, 67, 0.3), 0px 1px 3px 1px rgba(60, 64, 67, 0.15);\n",
              "      fill: #174EA6;\n",
              "    }\n",
              "\n",
              "    .colab-df-buttons div {\n",
              "      margin-bottom: 4px;\n",
              "    }\n",
              "\n",
              "    [theme=dark] .colab-df-convert {\n",
              "      background-color: #3B4455;\n",
              "      fill: #D2E3FC;\n",
              "    }\n",
              "\n",
              "    [theme=dark] .colab-df-convert:hover {\n",
              "      background-color: #434B5C;\n",
              "      box-shadow: 0px 1px 3px 1px rgba(0, 0, 0, 0.15);\n",
              "      filter: drop-shadow(0px 1px 2px rgba(0, 0, 0, 0.3));\n",
              "      fill: #FFFFFF;\n",
              "    }\n",
              "  </style>\n",
              "\n",
              "    <script>\n",
              "      const buttonEl =\n",
              "        document.querySelector('#df-248eb099-a8b0-47ef-8444-2fd70b0e953b button.colab-df-convert');\n",
              "      buttonEl.style.display =\n",
              "        google.colab.kernel.accessAllowed ? 'block' : 'none';\n",
              "\n",
              "      async function convertToInteractive(key) {\n",
              "        const element = document.querySelector('#df-248eb099-a8b0-47ef-8444-2fd70b0e953b');\n",
              "        const dataTable =\n",
              "          await google.colab.kernel.invokeFunction('convertToInteractive',\n",
              "                                                    [key], {});\n",
              "        if (!dataTable) return;\n",
              "\n",
              "        const docLinkHtml = 'Like what you see? Visit the ' +\n",
              "          '<a target=\"_blank\" href=https://colab.research.google.com/notebooks/data_table.ipynb>data table notebook</a>'\n",
              "          + ' to learn more about interactive tables.';\n",
              "        element.innerHTML = '';\n",
              "        dataTable['output_type'] = 'display_data';\n",
              "        await google.colab.output.renderOutput(dataTable, element);\n",
              "        const docLink = document.createElement('div');\n",
              "        docLink.innerHTML = docLinkHtml;\n",
              "        element.appendChild(docLink);\n",
              "      }\n",
              "    </script>\n",
              "  </div>\n",
              "\n",
              "\n",
              "    <div id=\"df-b6d74112-dd8b-408d-a4c9-dbd96b289cd3\">\n",
              "      <button class=\"colab-df-quickchart\" onclick=\"quickchart('df-b6d74112-dd8b-408d-a4c9-dbd96b289cd3')\"\n",
              "                title=\"Suggest charts\"\n",
              "                style=\"display:none;\">\n",
              "\n",
              "<svg xmlns=\"http://www.w3.org/2000/svg\" height=\"24px\"viewBox=\"0 0 24 24\"\n",
              "     width=\"24px\">\n",
              "    <g>\n",
              "        <path d=\"M19 3H5c-1.1 0-2 .9-2 2v14c0 1.1.9 2 2 2h14c1.1 0 2-.9 2-2V5c0-1.1-.9-2-2-2zM9 17H7v-7h2v7zm4 0h-2V7h2v10zm4 0h-2v-4h2v4z\"/>\n",
              "    </g>\n",
              "</svg>\n",
              "      </button>\n",
              "\n",
              "<style>\n",
              "  .colab-df-quickchart {\n",
              "      --bg-color: #E8F0FE;\n",
              "      --fill-color: #1967D2;\n",
              "      --hover-bg-color: #E2EBFA;\n",
              "      --hover-fill-color: #174EA6;\n",
              "      --disabled-fill-color: #AAA;\n",
              "      --disabled-bg-color: #DDD;\n",
              "  }\n",
              "\n",
              "  [theme=dark] .colab-df-quickchart {\n",
              "      --bg-color: #3B4455;\n",
              "      --fill-color: #D2E3FC;\n",
              "      --hover-bg-color: #434B5C;\n",
              "      --hover-fill-color: #FFFFFF;\n",
              "      --disabled-bg-color: #3B4455;\n",
              "      --disabled-fill-color: #666;\n",
              "  }\n",
              "\n",
              "  .colab-df-quickchart {\n",
              "    background-color: var(--bg-color);\n",
              "    border: none;\n",
              "    border-radius: 50%;\n",
              "    cursor: pointer;\n",
              "    display: none;\n",
              "    fill: var(--fill-color);\n",
              "    height: 32px;\n",
              "    padding: 0;\n",
              "    width: 32px;\n",
              "  }\n",
              "\n",
              "  .colab-df-quickchart:hover {\n",
              "    background-color: var(--hover-bg-color);\n",
              "    box-shadow: 0 1px 2px rgba(60, 64, 67, 0.3), 0 1px 3px 1px rgba(60, 64, 67, 0.15);\n",
              "    fill: var(--button-hover-fill-color);\n",
              "  }\n",
              "\n",
              "  .colab-df-quickchart-complete:disabled,\n",
              "  .colab-df-quickchart-complete:disabled:hover {\n",
              "    background-color: var(--disabled-bg-color);\n",
              "    fill: var(--disabled-fill-color);\n",
              "    box-shadow: none;\n",
              "  }\n",
              "\n",
              "  .colab-df-spinner {\n",
              "    border: 2px solid var(--fill-color);\n",
              "    border-color: transparent;\n",
              "    border-bottom-color: var(--fill-color);\n",
              "    animation:\n",
              "      spin 1s steps(1) infinite;\n",
              "  }\n",
              "\n",
              "  @keyframes spin {\n",
              "    0% {\n",
              "      border-color: transparent;\n",
              "      border-bottom-color: var(--fill-color);\n",
              "      border-left-color: var(--fill-color);\n",
              "    }\n",
              "    20% {\n",
              "      border-color: transparent;\n",
              "      border-left-color: var(--fill-color);\n",
              "      border-top-color: var(--fill-color);\n",
              "    }\n",
              "    30% {\n",
              "      border-color: transparent;\n",
              "      border-left-color: var(--fill-color);\n",
              "      border-top-color: var(--fill-color);\n",
              "      border-right-color: var(--fill-color);\n",
              "    }\n",
              "    40% {\n",
              "      border-color: transparent;\n",
              "      border-right-color: var(--fill-color);\n",
              "      border-top-color: var(--fill-color);\n",
              "    }\n",
              "    60% {\n",
              "      border-color: transparent;\n",
              "      border-right-color: var(--fill-color);\n",
              "    }\n",
              "    80% {\n",
              "      border-color: transparent;\n",
              "      border-right-color: var(--fill-color);\n",
              "      border-bottom-color: var(--fill-color);\n",
              "    }\n",
              "    90% {\n",
              "      border-color: transparent;\n",
              "      border-bottom-color: var(--fill-color);\n",
              "    }\n",
              "  }\n",
              "</style>\n",
              "\n",
              "      <script>\n",
              "        async function quickchart(key) {\n",
              "          const quickchartButtonEl =\n",
              "            document.querySelector('#' + key + ' button');\n",
              "          quickchartButtonEl.disabled = true;  // To prevent multiple clicks.\n",
              "          quickchartButtonEl.classList.add('colab-df-spinner');\n",
              "          try {\n",
              "            const charts = await google.colab.kernel.invokeFunction(\n",
              "                'suggestCharts', [key], {});\n",
              "          } catch (error) {\n",
              "            console.error('Error during call to suggestCharts:', error);\n",
              "          }\n",
              "          quickchartButtonEl.classList.remove('colab-df-spinner');\n",
              "          quickchartButtonEl.classList.add('colab-df-quickchart-complete');\n",
              "        }\n",
              "        (() => {\n",
              "          let quickchartButtonEl =\n",
              "            document.querySelector('#df-b6d74112-dd8b-408d-a4c9-dbd96b289cd3 button');\n",
              "          quickchartButtonEl.style.display =\n",
              "            google.colab.kernel.accessAllowed ? 'block' : 'none';\n",
              "        })();\n",
              "      </script>\n",
              "    </div>\n",
              "\n",
              "  <div id=\"id_638457de-f36f-413d-8787-6f451177f5f5\">\n",
              "    <style>\n",
              "      .colab-df-generate {\n",
              "        background-color: #E8F0FE;\n",
              "        border: none;\n",
              "        border-radius: 50%;\n",
              "        cursor: pointer;\n",
              "        display: none;\n",
              "        fill: #1967D2;\n",
              "        height: 32px;\n",
              "        padding: 0 0 0 0;\n",
              "        width: 32px;\n",
              "      }\n",
              "\n",
              "      .colab-df-generate:hover {\n",
              "        background-color: #E2EBFA;\n",
              "        box-shadow: 0px 1px 2px rgba(60, 64, 67, 0.3), 0px 1px 3px 1px rgba(60, 64, 67, 0.15);\n",
              "        fill: #174EA6;\n",
              "      }\n",
              "\n",
              "      [theme=dark] .colab-df-generate {\n",
              "        background-color: #3B4455;\n",
              "        fill: #D2E3FC;\n",
              "      }\n",
              "\n",
              "      [theme=dark] .colab-df-generate:hover {\n",
              "        background-color: #434B5C;\n",
              "        box-shadow: 0px 1px 3px 1px rgba(0, 0, 0, 0.15);\n",
              "        filter: drop-shadow(0px 1px 2px rgba(0, 0, 0, 0.3));\n",
              "        fill: #FFFFFF;\n",
              "      }\n",
              "    </style>\n",
              "    <button class=\"colab-df-generate\" onclick=\"generateWithVariable('data')\"\n",
              "            title=\"Generate code using this dataframe.\"\n",
              "            style=\"display:none;\">\n",
              "\n",
              "  <svg xmlns=\"http://www.w3.org/2000/svg\" height=\"24px\"viewBox=\"0 0 24 24\"\n",
              "       width=\"24px\">\n",
              "    <path d=\"M7,19H8.4L18.45,9,17,7.55,7,17.6ZM5,21V16.75L18.45,3.32a2,2,0,0,1,2.83,0l1.4,1.43a1.91,1.91,0,0,1,.58,1.4,1.91,1.91,0,0,1-.58,1.4L9.25,21ZM18.45,9,17,7.55Zm-12,3A5.31,5.31,0,0,0,4.9,8.1,5.31,5.31,0,0,0,1,6.5,5.31,5.31,0,0,0,4.9,4.9,5.31,5.31,0,0,0,6.5,1,5.31,5.31,0,0,0,8.1,4.9,5.31,5.31,0,0,0,12,6.5,5.46,5.46,0,0,0,6.5,12Z\"/>\n",
              "  </svg>\n",
              "    </button>\n",
              "    <script>\n",
              "      (() => {\n",
              "      const buttonEl =\n",
              "        document.querySelector('#id_638457de-f36f-413d-8787-6f451177f5f5 button.colab-df-generate');\n",
              "      buttonEl.style.display =\n",
              "        google.colab.kernel.accessAllowed ? 'block' : 'none';\n",
              "\n",
              "      buttonEl.onclick = () => {\n",
              "        google.colab.notebook.generateWithVariable('data');\n",
              "      }\n",
              "      })();\n",
              "    </script>\n",
              "  </div>\n",
              "\n",
              "    </div>\n",
              "  </div>\n"
            ],
            "application/vnd.google.colaboratory.intrinsic+json": {
              "type": "dataframe",
              "variable_name": "data",
              "summary": "{\n  \"name\": \"data\",\n  \"rows\": 2,\n  \"fields\": [\n    {\n      \"column\": 0,\n      \"properties\": {\n        \"dtype\": \"string\",\n        \"num_unique_values\": 2,\n        \"samples\": [\n          \"Contact your local ADS regional office. Each region maintains a hotline for snow-related service requests and emergencies.\",\n          \"Who do I contact to report an unplowed road?\"\n        ],\n        \"semantic_type\": \"\",\n        \"description\": \"\"\n      }\n    }\n  ]\n}"
            }
          },
          "metadata": {},
          "execution_count": 33
        }
      ]
    },
    {
      "cell_type": "code",
      "source": [
        "df.dtypes"
      ],
      "metadata": {
        "colab": {
          "base_uri": "https://localhost:8080/",
          "height": 147
        },
        "id": "UlnMqIizLNoW",
        "outputId": "4b1524e9-8d00-43e7-815b-f906782c5aa1"
      },
      "id": "UlnMqIizLNoW",
      "execution_count": 34,
      "outputs": [
        {
          "output_type": "execute_result",
          "data": {
            "text/plain": [
              "question    object\n",
              "answer      object\n",
              "dtype: object"
            ],
            "text/html": [
              "<div>\n",
              "<style scoped>\n",
              "    .dataframe tbody tr th:only-of-type {\n",
              "        vertical-align: middle;\n",
              "    }\n",
              "\n",
              "    .dataframe tbody tr th {\n",
              "        vertical-align: top;\n",
              "    }\n",
              "\n",
              "    .dataframe thead th {\n",
              "        text-align: right;\n",
              "    }\n",
              "</style>\n",
              "<table border=\"1\" class=\"dataframe\">\n",
              "  <thead>\n",
              "    <tr style=\"text-align: right;\">\n",
              "      <th></th>\n",
              "      <th>0</th>\n",
              "    </tr>\n",
              "  </thead>\n",
              "  <tbody>\n",
              "    <tr>\n",
              "      <th>question</th>\n",
              "      <td>object</td>\n",
              "    </tr>\n",
              "    <tr>\n",
              "      <th>answer</th>\n",
              "      <td>object</td>\n",
              "    </tr>\n",
              "  </tbody>\n",
              "</table>\n",
              "</div><br><label><b>dtype:</b> object</label>"
            ]
          },
          "metadata": {},
          "execution_count": 34
        }
      ]
    },
    {
      "cell_type": "markdown",
      "source": [
        "# **RAG Process**"
      ],
      "metadata": {
        "id": "OEs6G3hP3KXq"
      },
      "id": "OEs6G3hP3KXq"
    },
    {
      "cell_type": "markdown",
      "source": [
        "Importing bigquery package"
      ],
      "metadata": {
        "id": "kdyjD9DJ20gy"
      },
      "id": "kdyjD9DJ20gy"
    },
    {
      "cell_type": "code",
      "source": [
        "from google.cloud import bigquery"
      ],
      "metadata": {
        "id": "9PN0ag07LXlb"
      },
      "id": "9PN0ag07LXlb",
      "execution_count": 35,
      "outputs": []
    },
    {
      "cell_type": "markdown",
      "source": [
        "Initializing big query"
      ],
      "metadata": {
        "id": "vVm9r-y025Y3"
      },
      "id": "vVm9r-y025Y3"
    },
    {
      "cell_type": "code",
      "source": [
        "bq_client = bigquery.Client(project=\"qwiklabs-gcp-00-1c0ebb19fb7c\")"
      ],
      "metadata": {
        "id": "HpU72IHvPr8h"
      },
      "id": "HpU72IHvPr8h",
      "execution_count": 36,
      "outputs": []
    },
    {
      "cell_type": "markdown",
      "source": [
        "1. Creating Embedding model\n",
        "2. Loading data to bigquery table\n",
        "3. Generate embeddings for the loaded data"
      ],
      "metadata": {
        "id": "DxqluS3J27fY"
      },
      "id": "DxqluS3J27fY"
    },
    {
      "cell_type": "code",
      "source": [
        "embedding_and_dataloading_pipeline_sql = \"\"\"\n",
        "-- 1. Create Embedding Model\n",
        "CREATE OR REPLACE MODEL `AlaskaDeptOfSnow.Embeddings`\n",
        "REMOTE WITH CONNECTION `us.embedding_conn_us`\n",
        "OPTIONS (ENDPOINT = 'text-embedding-005');\n",
        "\n",
        "-- 2. Load CSV from GCS\n",
        "LOAD DATA OVERWRITE AlaskaDeptOfSnow.alaska_dept (\n",
        "    question STRING,\n",
        "    answer STRING\n",
        ")\n",
        "FROM FILES (\n",
        "    format = 'CSV',\n",
        "    uris = ['gs://labs.roitraining.com/alaska-dept-of-snow/alaska-dept-of-snow-faqs.csv'],\n",
        "    skip_leading_rows = 1\n",
        ");\n",
        "\n",
        "-- 3. Generate Embeddings\n",
        "CREATE OR REPLACE TABLE `AlaskaDeptOfSnow.alaska_dept_embedded` AS\n",
        "SELECT *\n",
        "FROM ML.GENERATE_EMBEDDING(\n",
        "    MODEL `AlaskaDeptOfSnow.Embeddings`,\n",
        "    (\n",
        "      SELECT\n",
        "        CONCAT(\"Q: \", question, \" A: \", answer) AS content,\n",
        "        question,\n",
        "        answer\n",
        "      FROM\n",
        "        `AlaskaDeptOfSnow.alaska_dept`\n",
        "    )\n",
        ");\n",
        "\"\"\"\n",
        "\n",
        "# Run the SQL\n",
        "bq_client.query(embedding_and_dataloading_pipeline_sql).result()"
      ],
      "metadata": {
        "colab": {
          "base_uri": "https://localhost:8080/"
        },
        "id": "pcXdvMB3PtXL",
        "outputId": "be5e3a9f-7566-41b6-aeea-ecaa64d2a583"
      },
      "id": "pcXdvMB3PtXL",
      "execution_count": 37,
      "outputs": [
        {
          "output_type": "execute_result",
          "data": {
            "text/plain": [
              "<google.cloud.bigquery.table._EmptyRowIterator at 0x7f722811ed50>"
            ]
          },
          "metadata": {},
          "execution_count": 37
        }
      ]
    },
    {
      "cell_type": "code",
      "source": [
        "!pip install --upgrade pyarrow --quiet"
      ],
      "metadata": {
        "id": "WVCPOgHYXjnz"
      },
      "id": "WVCPOgHYXjnz",
      "execution_count": 40,
      "outputs": []
    },
    {
      "cell_type": "markdown",
      "source": [
        "To check whether the data was loaded"
      ],
      "metadata": {
        "id": "gR2mZHva3nWY"
      },
      "id": "gR2mZHva3nWY"
    },
    {
      "cell_type": "code",
      "source": [
        "query = \"SELECT * FROM `AlaskaDeptOfSnow.alaska_dept` LIMIT 5\"\n",
        "df = bq_client.query(query).to_dataframe()\n",
        "\n",
        "print(df.shape)\n",
        "print(df.head())\n"
      ],
      "metadata": {
        "colab": {
          "base_uri": "https://localhost:8080/"
        },
        "id": "4ifufxuUPtsf",
        "outputId": "3d9881c9-95d9-4d97-83a7-4ac9a6743077"
      },
      "id": "4ifufxuUPtsf",
      "execution_count": 39,
      "outputs": [
        {
          "output_type": "stream",
          "name": "stdout",
          "text": [
            "(5, 2)\n",
            "                                            question  \\\n",
            "0  When was the Alaska Department of Snow establi...   \n",
            "1  What is the mission of the Alaska Department o...   \n",
            "2  How does ADS coordinate plowing across differe...   \n",
            "3       Who do I contact to report an unplowed road?   \n",
            "4         Does ADS oversee school closure decisions?   \n",
            "\n",
            "                                              answer  \n",
            "0  The Alaska Department of Snow (ADS) was establ...  \n",
            "1  Our mission is to ensure safe, efficient trave...  \n",
            "2  ADS works with local municipalities and region...  \n",
            "3  Contact your local ADS regional office. Each r...  \n",
            "4  While ADS provides data on snow conditions, fi...  \n"
          ]
        }
      ]
    }
  ],
  "metadata": {
    "kernelspec": {
      "display_name": "Python 3",
      "language": "python",
      "name": "python3"
    },
    "language_info": {
      "codemirror_mode": {
        "name": "ipython",
        "version": 3
      },
      "file_extension": ".py",
      "mimetype": "text/x-python",
      "name": "python",
      "nbconvert_exporter": "python",
      "pygments_lexer": "ipython3",
      "version": "3.10.10"
    },
    "colab": {
      "provenance": [],
      "name": "RAG_AlaskaDeptOfSnow"
    }
  },
  "nbformat": 4,
  "nbformat_minor": 5
}